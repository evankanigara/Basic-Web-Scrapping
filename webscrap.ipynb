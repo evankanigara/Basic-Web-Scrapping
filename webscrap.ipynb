{
 "cells": [
  {
   "cell_type": "markdown",
   "id": "8528ce8e",
   "metadata": {},
   "source": [
    "## Simple Web scrapping using BeautifulSoup\n",
    "### Name: Bernard Evan Kanigara"
   ]
  },
  {
   "cell_type": "markdown",
   "id": "f519c421",
   "metadata": {},
   "source": [
    "### Import Library"
   ]
  },
  {
   "cell_type": "code",
   "execution_count": 1,
   "id": "c9282775",
   "metadata": {},
   "outputs": [],
   "source": [
    "import requests\n",
    "from bs4 import BeautifulSoup\n",
    "import pandas as pd"
   ]
  },
  {
   "cell_type": "code",
   "execution_count": 24,
   "id": "f79f4149",
   "metadata": {},
   "outputs": [],
   "source": [
    "from re import sub\n",
    "from decimal import Decimal"
   ]
  },
  {
   "cell_type": "markdown",
   "id": "ed50153c",
   "metadata": {},
   "source": [
    "### Request data from web"
   ]
  },
  {
   "cell_type": "code",
   "execution_count": 2,
   "id": "a334f90c",
   "metadata": {},
   "outputs": [],
   "source": [
    "baseurl = \"https://www.rodalink.com/id/\"\n",
    "headers = {'User-Agent': 'Mozilla/5.0 (Windows NT 10.0; Win64; x64) AppleWebKit/537.36 (KHTML, like Gecko) Chrome/89.0.4389.82 Safari/537.36'}"
   ]
  },
  {
   "cell_type": "code",
   "execution_count": 3,
   "id": "cc06255c",
   "metadata": {},
   "outputs": [],
   "source": [
    "url=\"https://www.rodalink.com/id/sepeda/sepeda-gunung.html?p=\""
   ]
  },
  {
   "cell_type": "code",
   "execution_count": 6,
   "id": "30cd4807",
   "metadata": {},
   "outputs": [
    {
     "name": "stdout",
     "output_type": "stream",
     "text": [
      "<Response [200]>\n"
     ]
    }
   ],
   "source": [
    "req=requests.get(url,headers=headers)\n",
    "print(req)"
   ]
  },
  {
   "cell_type": "code",
   "execution_count": 16,
   "id": "1fe64fdf",
   "metadata": {},
   "outputs": [
    {
     "name": "stdout",
     "output_type": "stream",
     "text": [
      "Polygon Sepeda Mountain Bike Junior Relic 20\n",
      "Rp 2.525.000\n",
      "Polygon Sepeda MTB Cascade 2\n",
      "Rp 2.800.000\n",
      "Polygon Sepeda MTB Cascade 2 2020\n",
      "Rp 2.800.000\n",
      "Polygon Sepeda Mountain Bike Junior Relic 24\n",
      "Rp 2.900.000\n",
      "Polygon Sepeda MTB Cascade 3\n",
      "Rp 3.150.000\n",
      "Polygon Sepeda MTB Cascade 3 2020\n",
      "Rp 3.150.000\n",
      "Polygon Sepeda MTB Cascade 4\n",
      "Rp 3.550.000\n",
      "Polygon Sepeda MTB Cascade 4 2020\n",
      "Rp 3.550.000\n",
      "Polygon Sepeda Rayz 1\n",
      "Rp 4.000.000\n",
      "Polygon Sepeda Gunung Premier 4 2020\n",
      "Rp 4.200.000\n",
      "Polygon Sepeda Gunung Premier 4\n",
      "Rp 4.300.000\n",
      "Polygon Sepeda Cleo 2\n",
      "Rp 4.300.000\n",
      "Polygon Sepeda Gunung Premier 5 2020\n",
      "Rp 4.850.000\n",
      "Polygon Sepeda Gunung Premier 5\n",
      "Rp 4.950.000\n",
      "Marin Sepeda MTB Bobcat Trail 4 2018\n",
      "Rp 5.980.000\n",
      "Polygon Sepeda Rayz 3\n",
      "Rp 6.100.000\n",
      "Marin Sepeda Gunung Bobcat Trail 3\n",
      "Rp 6.200.000\n",
      "Polygon Sepeda MTB Xtrada 5 2020\n",
      "Rp 6.250.000\n",
      "Polygon Sepeda MTB Xtrada 5\n",
      "Rp 6.400.000\n",
      "Polygon Sepeda Cozmic DXP 2013\n",
      "Rp 7.100.000\n",
      "Polygon Sepeda Cleo 5 2013\n",
      "Rp 7.345.000\n",
      "Polygon Sepeda MTB Xtrada 6 2x11 Speed 2020\n",
      "Rp 7.500.000\n",
      "Polygon Sepeda MTB Xtrada 6 1x11 Speed 2020\n",
      "Rp 7.500.000\n",
      "Marin Sepeda MTB Bobcat Trail 4 2020\n",
      "Rp 7.500.000\n"
     ]
    }
   ],
   "source": [
    "soup=BeautifulSoup(req.text,\"html.parser\")\n",
    "items=soup.findAll('div','product details product-item-details')\n",
    "for it in items:\n",
    "    name=''.join(it.find('strong','product name product-item-name').text.strip().split('\\n'))\n",
    "    print(name)\n",
    "    price=''.join(it.find('span','price-container price-final_price tax weee').text.strip().split('\\n'))\n",
    "    print(price)"
   ]
  },
  {
   "cell_type": "code",
   "execution_count": 48,
   "id": "b50ac54f",
   "metadata": {},
   "outputs": [],
   "source": [
    "data=[]\n",
    "for page in range(1,4):\n",
    "    req=requests.get(url+str(page),headers=headers)\n",
    "    soup=BeautifulSoup(req.text,\"html.parser\")\n",
    "    items=soup.findAll('div','product details product-item-details')\n",
    "    for it in items:\n",
    "        name=''.join(it.find('strong','product name product-item-name').text.strip().split('\\n'))\n",
    "        price=''.join(it.find('span','price-container price-final_price tax weee').text.strip().split('\\n'))\n",
    "        data.append([name,price])"
   ]
  },
  {
   "cell_type": "code",
   "execution_count": 49,
   "id": "9c4f9468",
   "metadata": {},
   "outputs": [
    {
     "data": {
      "text/plain": [
       "[['Polygon Sepeda Mountain Bike Junior Relic 20', 'Rp 2.525.000'],\n",
       " ['Polygon Sepeda MTB Cascade 2', 'Rp 2.800.000'],\n",
       " ['Polygon Sepeda MTB Cascade 2 2020', 'Rp 2.800.000'],\n",
       " ['Polygon Sepeda Mountain Bike Junior Relic 24', 'Rp 2.900.000'],\n",
       " ['Polygon Sepeda MTB Cascade 3', 'Rp 3.150.000'],\n",
       " ['Polygon Sepeda MTB Cascade 3 2020', 'Rp 3.150.000'],\n",
       " ['Polygon Sepeda MTB Cascade 4', 'Rp 3.550.000'],\n",
       " ['Polygon Sepeda MTB Cascade 4 2020', 'Rp 3.550.000'],\n",
       " ['Polygon Sepeda Rayz 1', 'Rp 4.000.000'],\n",
       " ['Polygon Sepeda Gunung Premier 4 2020', 'Rp 4.200.000'],\n",
       " ['Polygon Sepeda Gunung Premier 4', 'Rp 4.300.000'],\n",
       " ['Polygon Sepeda Cleo 2', 'Rp 4.300.000'],\n",
       " ['Polygon Sepeda Gunung Premier 5 2020', 'Rp 4.850.000'],\n",
       " ['Polygon Sepeda Gunung Premier 5', 'Rp 4.950.000'],\n",
       " ['Marin Sepeda MTB Bobcat Trail 4 2018', 'Rp 5.980.000'],\n",
       " ['Polygon Sepeda Rayz 3', 'Rp 6.100.000'],\n",
       " ['Marin Sepeda Gunung Bobcat Trail 3', 'Rp 6.200.000'],\n",
       " ['Polygon Sepeda MTB Xtrada 5 2020', 'Rp 6.250.000'],\n",
       " ['Polygon Sepeda MTB Xtrada 5', 'Rp 6.400.000'],\n",
       " ['Polygon Sepeda Cozmic DXP 2013', 'Rp 7.100.000'],\n",
       " ['Polygon Sepeda Cleo 5 2013', 'Rp 7.345.000'],\n",
       " ['Polygon Sepeda MTB Xtrada 6 2x11 Speed 2020', 'Rp 7.500.000'],\n",
       " ['Polygon Sepeda MTB Xtrada 6 1x11 Speed 2020', 'Rp 7.500.000'],\n",
       " ['Marin Sepeda MTB Bobcat Trail 4 2020', 'Rp 7.500.000'],\n",
       " ['Polygon Sepeda MTB Xtrada 6', 'Rp 7.650.000'],\n",
       " ['Polygon Sepeda Trid CR', 'Rp 8.250.000'],\n",
       " ['Polygon Sepeda Trid CR 2016', 'Rp 8.250.000'],\n",
       " ['Polygon Sepeda MTB Xtrada 7 2018', 'Rp 9.500.000'],\n",
       " ['Polygon Sepeda Dual Suspension Siskiu D5', 'Rp 9.750.000'],\n",
       " ['Polygon Sepeda Dual Suspension Siskiu D5 2020', 'Rp 9.750.000'],\n",
       " ['Polygon Sepeda Trid 2016', 'Rp 9.750.000'],\n",
       " ['Polygon Sepeda Trid 2018', 'Rp 10.100.000'],\n",
       " ['Polygon Sepeda MTB Xtrada 7 2020', 'Rp 10.200.000'],\n",
       " ['Polygon Sepeda MTB Xtrada 7', 'Rp 10.400.000'],\n",
       " ['Marin Sepeda MTB Bobcat Trail 5 2020', 'Rp 11.000.000'],\n",
       " ['Polygon Sepeda Trid', 'Rp 11.200.000'],\n",
       " ['Ex Demo Bike 99% - Polygon Sepeda Collosus SX1 Dual Suspension',\n",
       "  'Rp 13.200.000'],\n",
       " ['Polygon Sepeda MTB Syncline C2 2020', 'Rp 13.350.000'],\n",
       " ['Polygon Sepeda Dual Suspension Siskiu D6', 'Rp 14.250.000'],\n",
       " ['Marin Sepeda Pine Mountain 1 29er', 'Rp 15.000.000'],\n",
       " ['Polygon Sepeda MTB Syncline C3', 'Rp 16.500.000'],\n",
       " ['Polygon Sepeda MTB Syncline C3 2020', 'Rp 16.500.000'],\n",
       " ['Polygon Sepeda Dual Suspension Siskiu D7 2020', 'Rp 17.200.000'],\n",
       " ['Polygon Sepeda Entiat TR8', 'Rp 17.400.000'],\n",
       " ['Polygon Sepeda Dual Suspension Siskiu D7', 'Rp 17.500.000'],\n",
       " ['Marin Sepeda Dual Suspension Hawk Hill 1', 'Rp 18.480.000'],\n",
       " ['Polygon Sepeda Dirt Jump Trid ZZ 2017', 'Rp 19.900.000'],\n",
       " ['Polygon Sepeda MTB Syncline C5', 'Rp 21.000.000'],\n",
       " ['Polygon Sepeda MTB Syncline C5 2020', 'Rp 21.000.000'],\n",
       " ['Marin Sepeda Dual Suspension Rift Zone 1', 'Rp 22.000.000'],\n",
       " ['Polygon Sepeda Dual Suspension Siskiu T7', 'Rp 24.000.000'],\n",
       " ['Polygon Sepeda Dirt Jump Trid ZZ', 'Rp 24.000.000'],\n",
       " ['Polygon Sepeda Dual Suspension Siskiu T8 2018', 'Rp 27.500.000'],\n",
       " ['Polygon Sepeda Collosus DFR', 'Rp 29.500.000'],\n",
       " ['Polygon Sepeda Dual Suspension Siskiu T8', 'Rp 31.000.000'],\n",
       " ['Polygon Sepeda Collosus DH2 Short 2015', 'Rp 32.000.000'],\n",
       " ['Marin Sepeda Hawk Hill 3 2020', 'Rp 34.380.000'],\n",
       " ['Marin Sepeda Pine Mountain 2', 'Rp 39.000.000'],\n",
       " ['Polygon Sepeda Dual Suspension Siskiu N9', 'Rp 40.500.000'],\n",
       " ['Polygon Sepeda Collosus DH8', 'Rp 42.000.000'],\n",
       " ['Marin Sepeda Elektrik Nail Trail E1', 'Rp 45.980.000'],\n",
       " ['Marin Sepeda Alpine Trail 8', 'Rp 47.980.000'],\n",
       " ['Polygon Sepeda Cozmic RXX 2013', 'Rp 48.500.000'],\n",
       " ['Ex Demo Bike 99% - Polygon Sepeda Collosus N9 XX1 Dual Suspension',\n",
       "  'Rp 51.200.000'],\n",
       " ['Polygon Sepeda Collosus DHX', 'Rp 55.000.000'],\n",
       " ['Marin Sepeda Elektrik Pine Mountain E2', 'Rp 59.000.000'],\n",
       " ['Polygon Sepeda Xquarone EX8', 'Rp 73.000.000'],\n",
       " ['Polygon Sepeda XQUARONE EX8 2017', 'Rp 82.000.000'],\n",
       " ['Polygon Sepeda Xquarone EX9', 'Rp 93.000.000'],\n",
       " ['Polygon Sepeda Collosus DH9 Team Edition', 'Rp 100.000.000'],\n",
       " ['Polygon Sepeda XQUARONE EX9 2017', 'Rp 102.000.000']]"
      ]
     },
     "execution_count": 49,
     "metadata": {},
     "output_type": "execute_result"
    }
   ],
   "source": [
    "data"
   ]
  },
  {
   "cell_type": "code",
   "execution_count": 50,
   "id": "2ab1ccab",
   "metadata": {},
   "outputs": [],
   "source": [
    "header_df=['Name','Price']"
   ]
  },
  {
   "cell_type": "code",
   "execution_count": 51,
   "id": "08ec0af3",
   "metadata": {},
   "outputs": [
    {
     "data": {
      "text/html": [
       "<div>\n",
       "<style scoped>\n",
       "    .dataframe tbody tr th:only-of-type {\n",
       "        vertical-align: middle;\n",
       "    }\n",
       "\n",
       "    .dataframe tbody tr th {\n",
       "        vertical-align: top;\n",
       "    }\n",
       "\n",
       "    .dataframe thead th {\n",
       "        text-align: right;\n",
       "    }\n",
       "</style>\n",
       "<table border=\"1\" class=\"dataframe\">\n",
       "  <thead>\n",
       "    <tr style=\"text-align: right;\">\n",
       "      <th></th>\n",
       "      <th>Name</th>\n",
       "      <th>Price</th>\n",
       "    </tr>\n",
       "  </thead>\n",
       "  <tbody>\n",
       "    <tr>\n",
       "      <th>0</th>\n",
       "      <td>Polygon Sepeda Mountain Bike Junior Relic 20</td>\n",
       "      <td>Rp 2.525.000</td>\n",
       "    </tr>\n",
       "    <tr>\n",
       "      <th>1</th>\n",
       "      <td>Polygon Sepeda MTB Cascade 2</td>\n",
       "      <td>Rp 2.800.000</td>\n",
       "    </tr>\n",
       "    <tr>\n",
       "      <th>2</th>\n",
       "      <td>Polygon Sepeda MTB Cascade 2 2020</td>\n",
       "      <td>Rp 2.800.000</td>\n",
       "    </tr>\n",
       "    <tr>\n",
       "      <th>3</th>\n",
       "      <td>Polygon Sepeda Mountain Bike Junior Relic 24</td>\n",
       "      <td>Rp 2.900.000</td>\n",
       "    </tr>\n",
       "    <tr>\n",
       "      <th>4</th>\n",
       "      <td>Polygon Sepeda MTB Cascade 3</td>\n",
       "      <td>Rp 3.150.000</td>\n",
       "    </tr>\n",
       "    <tr>\n",
       "      <th>...</th>\n",
       "      <td>...</td>\n",
       "      <td>...</td>\n",
       "    </tr>\n",
       "    <tr>\n",
       "      <th>66</th>\n",
       "      <td>Polygon Sepeda Xquarone EX8</td>\n",
       "      <td>Rp 73.000.000</td>\n",
       "    </tr>\n",
       "    <tr>\n",
       "      <th>67</th>\n",
       "      <td>Polygon Sepeda XQUARONE EX8 2017</td>\n",
       "      <td>Rp 82.000.000</td>\n",
       "    </tr>\n",
       "    <tr>\n",
       "      <th>68</th>\n",
       "      <td>Polygon Sepeda Xquarone EX9</td>\n",
       "      <td>Rp 93.000.000</td>\n",
       "    </tr>\n",
       "    <tr>\n",
       "      <th>69</th>\n",
       "      <td>Polygon Sepeda Collosus DH9 Team Edition</td>\n",
       "      <td>Rp 100.000.000</td>\n",
       "    </tr>\n",
       "    <tr>\n",
       "      <th>70</th>\n",
       "      <td>Polygon Sepeda XQUARONE EX9 2017</td>\n",
       "      <td>Rp 102.000.000</td>\n",
       "    </tr>\n",
       "  </tbody>\n",
       "</table>\n",
       "<p>71 rows × 2 columns</p>\n",
       "</div>"
      ],
      "text/plain": [
       "                                            Name           Price\n",
       "0   Polygon Sepeda Mountain Bike Junior Relic 20    Rp 2.525.000\n",
       "1                   Polygon Sepeda MTB Cascade 2    Rp 2.800.000\n",
       "2              Polygon Sepeda MTB Cascade 2 2020    Rp 2.800.000\n",
       "3   Polygon Sepeda Mountain Bike Junior Relic 24    Rp 2.900.000\n",
       "4                   Polygon Sepeda MTB Cascade 3    Rp 3.150.000\n",
       "..                                           ...             ...\n",
       "66                   Polygon Sepeda Xquarone EX8   Rp 73.000.000\n",
       "67              Polygon Sepeda XQUARONE EX8 2017   Rp 82.000.000\n",
       "68                   Polygon Sepeda Xquarone EX9   Rp 93.000.000\n",
       "69      Polygon Sepeda Collosus DH9 Team Edition  Rp 100.000.000\n",
       "70              Polygon Sepeda XQUARONE EX9 2017  Rp 102.000.000\n",
       "\n",
       "[71 rows x 2 columns]"
      ]
     },
     "execution_count": 51,
     "metadata": {},
     "output_type": "execute_result"
    }
   ],
   "source": [
    "df = pd.DataFrame(data, columns =['Name', 'Price'])\n",
    "df"
   ]
  },
  {
   "cell_type": "markdown",
   "id": "6017807c",
   "metadata": {},
   "source": [
    "### Data Cleaning"
   ]
  },
  {
   "cell_type": "code",
   "execution_count": 53,
   "id": "4b6a1eb4",
   "metadata": {},
   "outputs": [
    {
     "name": "stderr",
     "output_type": "stream",
     "text": [
      "C:\\Users\\ASUS\\AppData\\Local\\Temp/ipykernel_20424/2205158079.py:1: FutureWarning: The default value of regex will change from True to False in a future version.\n",
      "  df['Price'] = df['Price'].str.replace(r'\\D', '').astype(int)\n"
     ]
    },
    {
     "data": {
      "text/html": [
       "<div>\n",
       "<style scoped>\n",
       "    .dataframe tbody tr th:only-of-type {\n",
       "        vertical-align: middle;\n",
       "    }\n",
       "\n",
       "    .dataframe tbody tr th {\n",
       "        vertical-align: top;\n",
       "    }\n",
       "\n",
       "    .dataframe thead th {\n",
       "        text-align: right;\n",
       "    }\n",
       "</style>\n",
       "<table border=\"1\" class=\"dataframe\">\n",
       "  <thead>\n",
       "    <tr style=\"text-align: right;\">\n",
       "      <th></th>\n",
       "      <th>Name</th>\n",
       "      <th>Price</th>\n",
       "    </tr>\n",
       "  </thead>\n",
       "  <tbody>\n",
       "    <tr>\n",
       "      <th>0</th>\n",
       "      <td>Polygon Sepeda Mountain Bike Junior Relic 20</td>\n",
       "      <td>2525000</td>\n",
       "    </tr>\n",
       "    <tr>\n",
       "      <th>1</th>\n",
       "      <td>Polygon Sepeda MTB Cascade 2</td>\n",
       "      <td>2800000</td>\n",
       "    </tr>\n",
       "    <tr>\n",
       "      <th>2</th>\n",
       "      <td>Polygon Sepeda MTB Cascade 2 2020</td>\n",
       "      <td>2800000</td>\n",
       "    </tr>\n",
       "    <tr>\n",
       "      <th>3</th>\n",
       "      <td>Polygon Sepeda Mountain Bike Junior Relic 24</td>\n",
       "      <td>2900000</td>\n",
       "    </tr>\n",
       "    <tr>\n",
       "      <th>4</th>\n",
       "      <td>Polygon Sepeda MTB Cascade 3</td>\n",
       "      <td>3150000</td>\n",
       "    </tr>\n",
       "    <tr>\n",
       "      <th>...</th>\n",
       "      <td>...</td>\n",
       "      <td>...</td>\n",
       "    </tr>\n",
       "    <tr>\n",
       "      <th>66</th>\n",
       "      <td>Polygon Sepeda Xquarone EX8</td>\n",
       "      <td>73000000</td>\n",
       "    </tr>\n",
       "    <tr>\n",
       "      <th>67</th>\n",
       "      <td>Polygon Sepeda XQUARONE EX8 2017</td>\n",
       "      <td>82000000</td>\n",
       "    </tr>\n",
       "    <tr>\n",
       "      <th>68</th>\n",
       "      <td>Polygon Sepeda Xquarone EX9</td>\n",
       "      <td>93000000</td>\n",
       "    </tr>\n",
       "    <tr>\n",
       "      <th>69</th>\n",
       "      <td>Polygon Sepeda Collosus DH9 Team Edition</td>\n",
       "      <td>100000000</td>\n",
       "    </tr>\n",
       "    <tr>\n",
       "      <th>70</th>\n",
       "      <td>Polygon Sepeda XQUARONE EX9 2017</td>\n",
       "      <td>102000000</td>\n",
       "    </tr>\n",
       "  </tbody>\n",
       "</table>\n",
       "<p>71 rows × 2 columns</p>\n",
       "</div>"
      ],
      "text/plain": [
       "                                            Name      Price\n",
       "0   Polygon Sepeda Mountain Bike Junior Relic 20    2525000\n",
       "1                   Polygon Sepeda MTB Cascade 2    2800000\n",
       "2              Polygon Sepeda MTB Cascade 2 2020    2800000\n",
       "3   Polygon Sepeda Mountain Bike Junior Relic 24    2900000\n",
       "4                   Polygon Sepeda MTB Cascade 3    3150000\n",
       "..                                           ...        ...\n",
       "66                   Polygon Sepeda Xquarone EX8   73000000\n",
       "67              Polygon Sepeda XQUARONE EX8 2017   82000000\n",
       "68                   Polygon Sepeda Xquarone EX9   93000000\n",
       "69      Polygon Sepeda Collosus DH9 Team Edition  100000000\n",
       "70              Polygon Sepeda XQUARONE EX9 2017  102000000\n",
       "\n",
       "[71 rows x 2 columns]"
      ]
     },
     "execution_count": 53,
     "metadata": {},
     "output_type": "execute_result"
    }
   ],
   "source": [
    "df['Price'] = df['Price'].str.replace(r'\\D', '').astype(int)\n",
    "df"
   ]
  },
  {
   "cell_type": "markdown",
   "id": "dcba551a",
   "metadata": {},
   "source": [
    "### Write as csv"
   ]
  },
  {
   "cell_type": "code",
   "execution_count": 54,
   "id": "528044d9",
   "metadata": {},
   "outputs": [],
   "source": [
    "df.to_csv('harga_sepeda.csv')"
   ]
  },
  {
   "cell_type": "code",
   "execution_count": null,
   "id": "0792e093",
   "metadata": {},
   "outputs": [],
   "source": []
  }
 ],
 "metadata": {
  "kernelspec": {
   "display_name": "Python 3 (ipykernel)",
   "language": "python",
   "name": "python3"
  },
  "language_info": {
   "codemirror_mode": {
    "name": "ipython",
    "version": 3
   },
   "file_extension": ".py",
   "mimetype": "text/x-python",
   "name": "python",
   "nbconvert_exporter": "python",
   "pygments_lexer": "ipython3",
   "version": "3.9.5"
  }
 },
 "nbformat": 4,
 "nbformat_minor": 5
}
